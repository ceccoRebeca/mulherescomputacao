{
 "cells": [
  {
   "cell_type": "code",
   "execution_count": null,
   "metadata": {},
   "outputs": [],
   "source": [
    "df[\"FORMA_EVASAO\"].loc[df.FORMA_EVASAO == \"Transferência para outra institução\"] = \"Transferência\""
   ]
  },
  {
   "cell_type": "code",
   "execution_count": null,
   "metadata": {},
   "outputs": [],
   "source": [
    "df[\"FORMA_EVASAO\"].loc[df.FORMA_EVASAO == \"Reopção de Curso\"] = \"Reopção\""
   ]
  },
  {
   "cell_type": "code",
   "execution_count": null,
   "metadata": {},
   "outputs": [],
   "source": [
    "df[\"FORMA_EVASAO\"].loc[df.FORMA_EVASAO == \"Sem evasão\"] = \"Cursando\""
   ]
  },
  {
   "cell_type": "code",
   "execution_count": null,
   "metadata": {},
   "outputs": [],
   "source": [
    "df['TEMPO_NA_UFES'] = df['ANO_EVASAO'] - df['ANO_INGRESSO']"
   ]
  }
 ],
 "metadata": {
  "language_info": {
   "name": "python"
  },
  "orig_nbformat": 4
 },
 "nbformat": 4,
 "nbformat_minor": 2
}

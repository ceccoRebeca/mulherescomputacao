{
 "cells": [
  {
   "attachments": {},
   "cell_type": "markdown",
   "metadata": {},
   "source": [
    "Código de autoria de Ariana R Cursino análises feitas em ocasião do TCC na FATEC em SP.\n",
    "\n",
    "versão original disponível em https://github.com/arcursino/tcc/blob/main/TCC.ipynb"
   ]
  },
  {
   "attachments": {},
   "cell_type": "markdown",
   "metadata": {},
   "source": [
    "Adaptado por Rebeca Cecco para comportar dados da UFES no mesmo período"
   ]
  },
  {
   "cell_type": "markdown",
   "metadata": {},
   "source": [
    "# Análise estatística descritiva e Regressão da Inserção das Mulheres nos cursos de TI nos anos de 2009 a 2018.\n",
    "\n",
    "Análise de dados do Censo da Educação Superior - INEP, utilizando a biblioteca Pandas no jupyter notebook, para analisar o número de mulheres inseridas nos cursos de TI nos anos de 2009 a 2018  e um estudo em regressão, para traçar a tendência da taxa de crescimento da inserção dos alunos nos cursos de Tecnologia da Informação (TI) nesse mesmo período.\n",
    "\n",
    "Dados Brutos: https://www.gov.br/inep/pt-br/acesso-a-informacao/dados-abertos/microdados/censo-da-educacao-superior"
   ]
  },
  {
   "attachments": {},
   "cell_type": "markdown",
   "metadata": {},
   "source": [
    "## Definição do problema\n"
   ]
  },
  {
   "attachments": {},
   "cell_type": "markdown",
   "metadata": {},
   "source": [
    "\n",
    "### Desigualdade de gênero na área da Tecnologia da Informação\n",
    "\n",
    "- Os cursos da área de Tecnologia, são majoritariamente ocupados por homens. [1]\n",
    "\n",
    "- Entre a década de 1960 e 1970 houve um crescimento dos cursos na área da computação e a crescente participação das mulheres. [2][3]\n",
    "\n",
    "- A partir de 1980, iniciou-se a construção de estereótipos e identidades que associavam a computação ao universo masculino e a cultura geek. [2][3]\n",
    "\n",
    "- Pesquisa realizada pela Empresa de consultoria Yoctoo[4:\n",
    "\n",
    "    - 82,8% das mulheres entrevistadas relata ter vivido, ou ainda vivenciar, preconceito de gênero dentro do seu ambiente de trabalho. \n",
    "    - Em relação à área acadêmica, 61,8% assegura ter vivido ou vivência este preconceito. \n",
    "    - O  estudo  realizado  pela  empresa  de  consultoria  é  bastante  revelador,  trazendo outros importantes números: 91% das entrevistadas afirmam que ainda existe preconceito dentro  das  empresas  e que  essas  ainda  estão  dando  os  primeiros  passos  direcionados  à implementação  de  políticas  de  diversidade  e  inclusão;\n",
    "    - 72%  afirmam  que  o  ambiente familiar não costuma estimular meninas a gostarem de brincadeiras ou carreiras ligadas à tecnologia;\n",
    "    - 42%  das  participantes  afirmam  que  o  maior  desafio  é  ter  de  provar  a  todo tempo que são profissionais competentes; \n"
   ]
  },
  {
   "attachments": {},
   "cell_type": "markdown",
   "metadata": {},
   "source": [
    "\n",
    "- Análise descritiva dos dados do Censo da Educação Superior dos anos de 2009 a 2018.\n",
    "\n",
    "- Criar métricas (como o perfil dos alunos - idade e gênero) de apoio às coordenações e também para as comunidades que incentivam as mulheres.\n",
    "\n",
    "- Regressão, para traçar a tendência da taxa de crescimento da inserção dos alunos nos cursos de Tecnologia da Informação (TI)."
   ]
  },
  {
   "attachments": {},
   "cell_type": "markdown",
   "metadata": {},
   "source": [
    "## Objetivo"
   ]
  },
  {
   "attachments": {},
   "cell_type": "markdown",
   "metadata": {},
   "source": [
    "* Análise descritiva dos dados do Censo da Educação Superior dos anos de 2009 a 2018.\n",
    "\n",
    "* Criar métricas (como o perfil dos alunos - idade e gênero) de apoio às coordenações e também para as comunidades que incentivam as mulheres.\n",
    "\n",
    "* Regressão, para traçar a tendência da taxa de crescimento da inserção dos alunos nos cursos de Tecnologia da Informação (TI)."
   ]
  },
  {
   "cell_type": "markdown",
   "metadata": {},
   "source": [
    "## Desenvolvimento\n",
    "\n",
    "Método Knowledge Discovery in Databases (KDD)\n",
    "![kdd](imagens/kdd.png)\n"
   ]
  },
  {
   "cell_type": "code",
   "execution_count": 34,
   "metadata": {},
   "outputs": [],
   "source": [
    "#importando os módulos\n",
    "import pandas as pd\n",
    "low_memory=False"
   ]
  },
  {
   "cell_type": "code",
   "execution_count": 35,
   "metadata": {},
   "outputs": [],
   "source": [
    "#Leitura do dataset utilizado na análise\n",
    "path = \"C:\\\\Users\\\\USER\\\\Documents\\\\GitHub\\\\mulherescomputacao\\\\DadosRebeca.csv\"\n",
    "df = pd.read_csv(path)"
   ]
  },
  {
   "cell_type": "code",
   "execution_count": 36,
   "metadata": {},
   "outputs": [
    {
     "data": {
      "text/html": [
       "<div>\n",
       "<style scoped>\n",
       "    .dataframe tbody tr th:only-of-type {\n",
       "        vertical-align: middle;\n",
       "    }\n",
       "\n",
       "    .dataframe tbody tr th {\n",
       "        vertical-align: top;\n",
       "    }\n",
       "\n",
       "    .dataframe thead th {\n",
       "        text-align: right;\n",
       "    }\n",
       "</style>\n",
       "<table border=\"1\" class=\"dataframe\">\n",
       "  <thead>\n",
       "    <tr style=\"text-align: right;\">\n",
       "      <th></th>\n",
       "      <th>NOME_ALUNO</th>\n",
       "      <th>SEXO</th>\n",
       "      <th>IDADE</th>\n",
       "      <th>ESTADO_CIVIL</th>\n",
       "      <th>ETNIA</th>\n",
       "      <th>COD_CURSO</th>\n",
       "      <th>NOME_CURSO</th>\n",
       "      <th>ANO_INGRESSO</th>\n",
       "      <th>FORMA_INGRESSO</th>\n",
       "      <th>PERIODO_INGRESSO</th>\n",
       "      <th>...</th>\n",
       "      <th>NUM_PERIODOS</th>\n",
       "      <th>NUM_MAX_PERIODOS</th>\n",
       "      <th>CH_TOTAL_CURSO</th>\n",
       "      <th>COTISTA</th>\n",
       "      <th>MUNICIPIO</th>\n",
       "      <th>ESTADO</th>\n",
       "      <th>PAIS</th>\n",
       "      <th>CRN</th>\n",
       "      <th>CRA</th>\n",
       "      <th>QTDE_TRANCAMENTOS</th>\n",
       "    </tr>\n",
       "  </thead>\n",
       "  <tbody>\n",
       "    <tr>\n",
       "      <th>0</th>\n",
       "      <td>Aluno 1</td>\n",
       "      <td>M</td>\n",
       "      <td>19.3</td>\n",
       "      <td>Casado(a)</td>\n",
       "      <td>Branca</td>\n",
       "      <td>5</td>\n",
       "      <td>Engenharia de Computação</td>\n",
       "      <td>2007</td>\n",
       "      <td>Vestibular</td>\n",
       "      <td>1º Semestre</td>\n",
       "      <td>...</td>\n",
       "      <td>10</td>\n",
       "      <td>18</td>\n",
       "      <td>3690</td>\n",
       "      <td>N</td>\n",
       "      <td>VILA VELHA</td>\n",
       "      <td>Espirito Santo</td>\n",
       "      <td>Brasil</td>\n",
       "      <td>14,3369</td>\n",
       "      <td>5.62</td>\n",
       "      <td>0</td>\n",
       "    </tr>\n",
       "    <tr>\n",
       "      <th>1</th>\n",
       "      <td>Aluno 2</td>\n",
       "      <td>M</td>\n",
       "      <td>23.0</td>\n",
       "      <td>Solteiro(a)</td>\n",
       "      <td>Branca</td>\n",
       "      <td>5</td>\n",
       "      <td>Engenharia de Computação</td>\n",
       "      <td>2007</td>\n",
       "      <td>Vestibular</td>\n",
       "      <td>1º Semestre</td>\n",
       "      <td>...</td>\n",
       "      <td>10</td>\n",
       "      <td>18</td>\n",
       "      <td>3690</td>\n",
       "      <td>N</td>\n",
       "      <td>VITORIA</td>\n",
       "      <td>Espirito Santo</td>\n",
       "      <td>Brasil</td>\n",
       "      <td>15,8809</td>\n",
       "      <td>7.88</td>\n",
       "      <td>0</td>\n",
       "    </tr>\n",
       "    <tr>\n",
       "      <th>2</th>\n",
       "      <td>Aluno 3</td>\n",
       "      <td>M</td>\n",
       "      <td>20.7</td>\n",
       "      <td>Solteiro(a)</td>\n",
       "      <td>Branca</td>\n",
       "      <td>5</td>\n",
       "      <td>Engenharia de Computação</td>\n",
       "      <td>2008</td>\n",
       "      <td>Vestibular</td>\n",
       "      <td>1º Semestre</td>\n",
       "      <td>...</td>\n",
       "      <td>10</td>\n",
       "      <td>15</td>\n",
       "      <td>4215</td>\n",
       "      <td>N</td>\n",
       "      <td>CARIACICA</td>\n",
       "      <td>Espirito Santo</td>\n",
       "      <td>Brasil</td>\n",
       "      <td>2,3339</td>\n",
       "      <td>2.75</td>\n",
       "      <td>1</td>\n",
       "    </tr>\n",
       "    <tr>\n",
       "      <th>3</th>\n",
       "      <td>Aluno 4</td>\n",
       "      <td>M</td>\n",
       "      <td>17.2</td>\n",
       "      <td>Solteiro(a)</td>\n",
       "      <td>Parda</td>\n",
       "      <td>5</td>\n",
       "      <td>Engenharia de Computação</td>\n",
       "      <td>2008</td>\n",
       "      <td>Vestibular</td>\n",
       "      <td>1º Semestre</td>\n",
       "      <td>...</td>\n",
       "      <td>10</td>\n",
       "      <td>18</td>\n",
       "      <td>3690</td>\n",
       "      <td>S</td>\n",
       "      <td>NOVA VENECIA</td>\n",
       "      <td>Espirito Santo</td>\n",
       "      <td>Brasil</td>\n",
       "      <td>16,1175</td>\n",
       "      <td>8.03</td>\n",
       "      <td>0</td>\n",
       "    </tr>\n",
       "    <tr>\n",
       "      <th>4</th>\n",
       "      <td>Aluno 5</td>\n",
       "      <td>M</td>\n",
       "      <td>25.8</td>\n",
       "      <td>Solteiro(a)</td>\n",
       "      <td>Parda</td>\n",
       "      <td>5</td>\n",
       "      <td>Engenharia de Computação</td>\n",
       "      <td>2008</td>\n",
       "      <td>Vestibular</td>\n",
       "      <td>1º Semestre</td>\n",
       "      <td>...</td>\n",
       "      <td>10</td>\n",
       "      <td>15</td>\n",
       "      <td>4215</td>\n",
       "      <td>N</td>\n",
       "      <td>SERRA</td>\n",
       "      <td>Espirito Santo</td>\n",
       "      <td>Brasil</td>\n",
       "      <td>1,3823</td>\n",
       "      <td>1.71</td>\n",
       "      <td>0</td>\n",
       "    </tr>\n",
       "  </tbody>\n",
       "</table>\n",
       "<p>5 rows × 23 columns</p>\n",
       "</div>"
      ],
      "text/plain": [
       "  NOME_ALUNO SEXO  IDADE ESTADO_CIVIL   ETNIA  COD_CURSO  \\\n",
       "0    Aluno 1    M   19.3    Casado(a)  Branca          5   \n",
       "1    Aluno 2    M   23.0  Solteiro(a)  Branca          5   \n",
       "2    Aluno 3    M   20.7  Solteiro(a)  Branca          5   \n",
       "3    Aluno 4    M   17.2  Solteiro(a)   Parda          5   \n",
       "4    Aluno 5    M   25.8  Solteiro(a)   Parda          5   \n",
       "\n",
       "                 NOME_CURSO  ANO_INGRESSO FORMA_INGRESSO PERIODO_INGRESSO  \\\n",
       "0  Engenharia de Computação          2007     Vestibular      1º Semestre   \n",
       "1  Engenharia de Computação          2007     Vestibular      1º Semestre   \n",
       "2  Engenharia de Computação          2008     Vestibular      1º Semestre   \n",
       "3  Engenharia de Computação          2008     Vestibular      1º Semestre   \n",
       "4  Engenharia de Computação          2008     Vestibular      1º Semestre   \n",
       "\n",
       "   ...  NUM_PERIODOS NUM_MAX_PERIODOS CH_TOTAL_CURSO  COTISTA     MUNICIPIO  \\\n",
       "0  ...            10               18           3690        N    VILA VELHA   \n",
       "1  ...            10               18           3690        N       VITORIA   \n",
       "2  ...            10               15           4215        N     CARIACICA   \n",
       "3  ...            10               18           3690        S  NOVA VENECIA   \n",
       "4  ...            10               15           4215        N         SERRA   \n",
       "\n",
       "           ESTADO    PAIS      CRN   CRA QTDE_TRANCAMENTOS  \n",
       "0  Espirito Santo  Brasil  14,3369  5.62                 0  \n",
       "1  Espirito Santo  Brasil  15,8809  7.88                 0  \n",
       "2  Espirito Santo  Brasil   2,3339  2.75                 1  \n",
       "3  Espirito Santo  Brasil  16,1175  8.03                 0  \n",
       "4  Espirito Santo  Brasil   1,3823  1.71                 0  \n",
       "\n",
       "[5 rows x 23 columns]"
      ]
     },
     "execution_count": 36,
     "metadata": {},
     "output_type": "execute_result"
    }
   ],
   "source": [
    "#Visualização das 5 primeiras linhas do dataset\n",
    "df.head()"
   ]
  },
  {
   "cell_type": "code",
   "execution_count": 64,
   "metadata": {},
   "outputs": [
    {
     "data": {
      "text/html": [
       "<div>\n",
       "<style scoped>\n",
       "    .dataframe tbody tr th:only-of-type {\n",
       "        vertical-align: middle;\n",
       "    }\n",
       "\n",
       "    .dataframe tbody tr th {\n",
       "        vertical-align: top;\n",
       "    }\n",
       "\n",
       "    .dataframe thead th {\n",
       "        text-align: right;\n",
       "    }\n",
       "</style>\n",
       "<table border=\"1\" class=\"dataframe\">\n",
       "  <thead>\n",
       "    <tr style=\"text-align: right;\">\n",
       "      <th></th>\n",
       "      <th>IDADE</th>\n",
       "      <th>COD_CURSO</th>\n",
       "      <th>ANO_INGRESSO</th>\n",
       "      <th>ANO_EVASAO</th>\n",
       "      <th>NUM_PERIODOS</th>\n",
       "      <th>NUM_MAX_PERIODOS</th>\n",
       "      <th>CH_TOTAL_CURSO</th>\n",
       "      <th>CRA</th>\n",
       "      <th>QTDE_TRANCAMENTOS</th>\n",
       "    </tr>\n",
       "  </thead>\n",
       "  <tbody>\n",
       "    <tr>\n",
       "      <th>count</th>\n",
       "      <td>2454.000000</td>\n",
       "      <td>2461.000000</td>\n",
       "      <td>2461.000000</td>\n",
       "      <td>2461.000000</td>\n",
       "      <td>2461.000000</td>\n",
       "      <td>2461.000000</td>\n",
       "      <td>2461.000000</td>\n",
       "      <td>2461.000000</td>\n",
       "      <td>2461.000000</td>\n",
       "    </tr>\n",
       "    <tr>\n",
       "      <th>mean</th>\n",
       "      <td>19.973798</td>\n",
       "      <td>7.645266</td>\n",
       "      <td>2007.415278</td>\n",
       "      <td>1628.110118</td>\n",
       "      <td>9.610321</td>\n",
       "      <td>15.685900</td>\n",
       "      <td>3599.928891</td>\n",
       "      <td>5.341044</td>\n",
       "      <td>0.262901</td>\n",
       "    </tr>\n",
       "    <tr>\n",
       "      <th>std</th>\n",
       "      <td>3.694254</td>\n",
       "      <td>2.979559</td>\n",
       "      <td>9.535419</td>\n",
       "      <td>788.108768</td>\n",
       "      <td>0.619893</td>\n",
       "      <td>1.760936</td>\n",
       "      <td>425.027337</td>\n",
       "      <td>2.664982</td>\n",
       "      <td>0.638501</td>\n",
       "    </tr>\n",
       "    <tr>\n",
       "      <th>min</th>\n",
       "      <td>16.000000</td>\n",
       "      <td>5.000000</td>\n",
       "      <td>1990.000000</td>\n",
       "      <td>0.000000</td>\n",
       "      <td>0.000000</td>\n",
       "      <td>13.000000</td>\n",
       "      <td>2835.000000</td>\n",
       "      <td>0.000000</td>\n",
       "      <td>0.000000</td>\n",
       "    </tr>\n",
       "    <tr>\n",
       "      <th>25%</th>\n",
       "      <td>18.100000</td>\n",
       "      <td>5.000000</td>\n",
       "      <td>1999.000000</td>\n",
       "      <td>1998.000000</td>\n",
       "      <td>9.000000</td>\n",
       "      <td>15.000000</td>\n",
       "      <td>3200.000000</td>\n",
       "      <td>3.590000</td>\n",
       "      <td>0.000000</td>\n",
       "    </tr>\n",
       "    <tr>\n",
       "      <th>50%</th>\n",
       "      <td>18.900000</td>\n",
       "      <td>5.000000</td>\n",
       "      <td>2009.000000</td>\n",
       "      <td>2006.000000</td>\n",
       "      <td>10.000000</td>\n",
       "      <td>15.000000</td>\n",
       "      <td>3650.000000</td>\n",
       "      <td>5.790000</td>\n",
       "      <td>0.000000</td>\n",
       "    </tr>\n",
       "    <tr>\n",
       "      <th>75%</th>\n",
       "      <td>20.300000</td>\n",
       "      <td>11.000000</td>\n",
       "      <td>2016.000000</td>\n",
       "      <td>2015.000000</td>\n",
       "      <td>10.000000</td>\n",
       "      <td>18.000000</td>\n",
       "      <td>3690.000000</td>\n",
       "      <td>7.500000</td>\n",
       "      <td>0.000000</td>\n",
       "    </tr>\n",
       "    <tr>\n",
       "      <th>max</th>\n",
       "      <td>58.200000</td>\n",
       "      <td>11.000000</td>\n",
       "      <td>2022.000000</td>\n",
       "      <td>2022.000000</td>\n",
       "      <td>10.000000</td>\n",
       "      <td>18.000000</td>\n",
       "      <td>4215.000000</td>\n",
       "      <td>9.670000</td>\n",
       "      <td>6.000000</td>\n",
       "    </tr>\n",
       "  </tbody>\n",
       "</table>\n",
       "</div>"
      ],
      "text/plain": [
       "             IDADE    COD_CURSO  ANO_INGRESSO   ANO_EVASAO  NUM_PERIODOS  \\\n",
       "count  2454.000000  2461.000000   2461.000000  2461.000000   2461.000000   \n",
       "mean     19.973798     7.645266   2007.415278  1628.110118      9.610321   \n",
       "std       3.694254     2.979559      9.535419   788.108768      0.619893   \n",
       "min      16.000000     5.000000   1990.000000     0.000000      0.000000   \n",
       "25%      18.100000     5.000000   1999.000000  1998.000000      9.000000   \n",
       "50%      18.900000     5.000000   2009.000000  2006.000000     10.000000   \n",
       "75%      20.300000    11.000000   2016.000000  2015.000000     10.000000   \n",
       "max      58.200000    11.000000   2022.000000  2022.000000     10.000000   \n",
       "\n",
       "       NUM_MAX_PERIODOS  CH_TOTAL_CURSO          CRA  QTDE_TRANCAMENTOS  \n",
       "count       2461.000000     2461.000000  2461.000000        2461.000000  \n",
       "mean          15.685900     3599.928891     5.341044           0.262901  \n",
       "std            1.760936      425.027337     2.664982           0.638501  \n",
       "min           13.000000     2835.000000     0.000000           0.000000  \n",
       "25%           15.000000     3200.000000     3.590000           0.000000  \n",
       "50%           15.000000     3650.000000     5.790000           0.000000  \n",
       "75%           18.000000     3690.000000     7.500000           0.000000  \n",
       "max           18.000000     4215.000000     9.670000           6.000000  "
      ]
     },
     "execution_count": 64,
     "metadata": {},
     "output_type": "execute_result"
    }
   ],
   "source": [
    "df.describe()"
   ]
  },
  {
   "cell_type": "code",
   "execution_count": 65,
   "metadata": {},
   "outputs": [],
   "source": [
    "df_sliced = df.loc[(df[\"ANO_INGRESSO\"] > 2008) & (df[\"ANO_INGRESSO\"] < 2019)] "
   ]
  },
  {
   "cell_type": "code",
   "execution_count": 66,
   "metadata": {},
   "outputs": [
    {
     "data": {
      "text/plain": [
       "SEXO\n",
       "F    18.8\n",
       "M    18.9\n",
       "N    18.3\n",
       "Name: IDADE, dtype: float64"
      ]
     },
     "execution_count": 66,
     "metadata": {},
     "output_type": "execute_result"
    }
   ],
   "source": [
    "#Agrupamento da mediana - por sexo e idade\n",
    "df_sliced.groupby('SEXO')['IDADE'].median()"
   ]
  },
  {
   "attachments": {},
   "cell_type": "markdown",
   "metadata": {},
   "source": [
    "De arcusino:\n",
    "\n",
    "SEXO\n",
    "\n",
    "Feminino     25\n",
    "\n",
    "Masculino    25"
   ]
  },
  {
   "cell_type": "code",
   "execution_count": 67,
   "metadata": {},
   "outputs": [
    {
     "data": {
      "text/plain": [
       "SEXO\n",
       "F    19.248315\n",
       "M    20.254523\n",
       "N    18.533333\n",
       "Name: IDADE, dtype: float64"
      ]
     },
     "execution_count": 67,
     "metadata": {},
     "output_type": "execute_result"
    }
   ],
   "source": [
    "#Agrupamento da média - por sexo e idade\n",
    "df_sliced.groupby('SEXO')['IDADE'].mean()"
   ]
  },
  {
   "attachments": {},
   "cell_type": "markdown",
   "metadata": {},
   "source": [
    "De arcursino\n",
    "\n",
    "SEXO\n",
    "\n",
    "Feminino     26.613892\n",
    "\n",
    "Masculino    27.164551"
   ]
  },
  {
   "cell_type": "code",
   "execution_count": 68,
   "metadata": {},
   "outputs": [],
   "source": [
    "#filtro dos dados por sexo\n",
    "masc = df_sliced[df_sliced['SEXO'] == 'M'] \n",
    "femi = df_sliced[df_sliced['SEXO'] == 'F']"
   ]
  },
  {
   "cell_type": "code",
   "execution_count": 69,
   "metadata": {},
   "outputs": [
    {
     "data": {
      "text/html": [
       "<div>\n",
       "<style scoped>\n",
       "    .dataframe tbody tr th:only-of-type {\n",
       "        vertical-align: middle;\n",
       "    }\n",
       "\n",
       "    .dataframe tbody tr th {\n",
       "        vertical-align: top;\n",
       "    }\n",
       "\n",
       "    .dataframe thead th {\n",
       "        text-align: right;\n",
       "    }\n",
       "</style>\n",
       "<table border=\"1\" class=\"dataframe\">\n",
       "  <thead>\n",
       "    <tr style=\"text-align: right;\">\n",
       "      <th></th>\n",
       "      <th>NOME_ALUNO</th>\n",
       "      <th>SEXO</th>\n",
       "      <th>IDADE</th>\n",
       "      <th>ESTADO_CIVIL</th>\n",
       "      <th>ETNIA</th>\n",
       "      <th>COD_CURSO</th>\n",
       "      <th>NOME_CURSO</th>\n",
       "      <th>ANO_INGRESSO</th>\n",
       "      <th>FORMA_INGRESSO</th>\n",
       "      <th>PERIODO_INGRESSO</th>\n",
       "      <th>...</th>\n",
       "      <th>NUM_PERIODOS</th>\n",
       "      <th>NUM_MAX_PERIODOS</th>\n",
       "      <th>CH_TOTAL_CURSO</th>\n",
       "      <th>COTISTA</th>\n",
       "      <th>MUNICIPIO</th>\n",
       "      <th>ESTADO</th>\n",
       "      <th>PAIS</th>\n",
       "      <th>CRN</th>\n",
       "      <th>CRA</th>\n",
       "      <th>QTDE_TRANCAMENTOS</th>\n",
       "    </tr>\n",
       "  </thead>\n",
       "  <tbody>\n",
       "    <tr>\n",
       "      <th>0</th>\n",
       "      <td>Aluno 1001</td>\n",
       "      <td>M</td>\n",
       "      <td>17.9</td>\n",
       "      <td>Solteiro(a)</td>\n",
       "      <td>Branca</td>\n",
       "      <td>5.0</td>\n",
       "      <td>Engenharia de Computação</td>\n",
       "      <td>2009.0</td>\n",
       "      <td>Vestibular</td>\n",
       "      <td>1º Semestre</td>\n",
       "      <td>...</td>\n",
       "      <td>10.0</td>\n",
       "      <td>15.0</td>\n",
       "      <td>4215.0</td>\n",
       "      <td>N</td>\n",
       "      <td>VITORIA</td>\n",
       "      <td>Espirito Santo</td>\n",
       "      <td>Brasil</td>\n",
       "      <td>5</td>\n",
       "      <td>0.0</td>\n",
       "      <td>0.0</td>\n",
       "    </tr>\n",
       "    <tr>\n",
       "      <th>1</th>\n",
       "      <td>Aluno 1002</td>\n",
       "      <td>NaN</td>\n",
       "      <td>NaN</td>\n",
       "      <td>NaN</td>\n",
       "      <td>NaN</td>\n",
       "      <td>NaN</td>\n",
       "      <td>NaN</td>\n",
       "      <td>2016.0</td>\n",
       "      <td>NaN</td>\n",
       "      <td>NaN</td>\n",
       "      <td>...</td>\n",
       "      <td>NaN</td>\n",
       "      <td>NaN</td>\n",
       "      <td>NaN</td>\n",
       "      <td>NaN</td>\n",
       "      <td>NaN</td>\n",
       "      <td>NaN</td>\n",
       "      <td>NaN</td>\n",
       "      <td>NaN</td>\n",
       "      <td>NaN</td>\n",
       "      <td>NaN</td>\n",
       "    </tr>\n",
       "    <tr>\n",
       "      <th>2</th>\n",
       "      <td>Aluno 1003</td>\n",
       "      <td>NaN</td>\n",
       "      <td>NaN</td>\n",
       "      <td>NaN</td>\n",
       "      <td>NaN</td>\n",
       "      <td>NaN</td>\n",
       "      <td>NaN</td>\n",
       "      <td>NaN</td>\n",
       "      <td>NaN</td>\n",
       "      <td>NaN</td>\n",
       "      <td>...</td>\n",
       "      <td>NaN</td>\n",
       "      <td>NaN</td>\n",
       "      <td>NaN</td>\n",
       "      <td>NaN</td>\n",
       "      <td>NaN</td>\n",
       "      <td>NaN</td>\n",
       "      <td>NaN</td>\n",
       "      <td>NaN</td>\n",
       "      <td>NaN</td>\n",
       "      <td>NaN</td>\n",
       "    </tr>\n",
       "    <tr>\n",
       "      <th>3</th>\n",
       "      <td>Aluno 1005</td>\n",
       "      <td>NaN</td>\n",
       "      <td>NaN</td>\n",
       "      <td>NaN</td>\n",
       "      <td>NaN</td>\n",
       "      <td>NaN</td>\n",
       "      <td>NaN</td>\n",
       "      <td>NaN</td>\n",
       "      <td>NaN</td>\n",
       "      <td>NaN</td>\n",
       "      <td>...</td>\n",
       "      <td>NaN</td>\n",
       "      <td>NaN</td>\n",
       "      <td>NaN</td>\n",
       "      <td>NaN</td>\n",
       "      <td>NaN</td>\n",
       "      <td>NaN</td>\n",
       "      <td>NaN</td>\n",
       "      <td>NaN</td>\n",
       "      <td>NaN</td>\n",
       "      <td>NaN</td>\n",
       "    </tr>\n",
       "    <tr>\n",
       "      <th>4</th>\n",
       "      <td>Aluno 1008</td>\n",
       "      <td>NaN</td>\n",
       "      <td>NaN</td>\n",
       "      <td>NaN</td>\n",
       "      <td>NaN</td>\n",
       "      <td>NaN</td>\n",
       "      <td>NaN</td>\n",
       "      <td>NaN</td>\n",
       "      <td>NaN</td>\n",
       "      <td>NaN</td>\n",
       "      <td>...</td>\n",
       "      <td>NaN</td>\n",
       "      <td>NaN</td>\n",
       "      <td>NaN</td>\n",
       "      <td>NaN</td>\n",
       "      <td>NaN</td>\n",
       "      <td>NaN</td>\n",
       "      <td>NaN</td>\n",
       "      <td>NaN</td>\n",
       "      <td>NaN</td>\n",
       "      <td>NaN</td>\n",
       "    </tr>\n",
       "    <tr>\n",
       "      <th>...</th>\n",
       "      <td>...</td>\n",
       "      <td>...</td>\n",
       "      <td>...</td>\n",
       "      <td>...</td>\n",
       "      <td>...</td>\n",
       "      <td>...</td>\n",
       "      <td>...</td>\n",
       "      <td>...</td>\n",
       "      <td>...</td>\n",
       "      <td>...</td>\n",
       "      <td>...</td>\n",
       "      <td>...</td>\n",
       "      <td>...</td>\n",
       "      <td>...</td>\n",
       "      <td>...</td>\n",
       "      <td>...</td>\n",
       "      <td>...</td>\n",
       "      <td>...</td>\n",
       "      <td>...</td>\n",
       "      <td>...</td>\n",
       "      <td>...</td>\n",
       "    </tr>\n",
       "    <tr>\n",
       "      <th>791</th>\n",
       "      <td>Aluno 982</td>\n",
       "      <td>NaN</td>\n",
       "      <td>NaN</td>\n",
       "      <td>NaN</td>\n",
       "      <td>NaN</td>\n",
       "      <td>NaN</td>\n",
       "      <td>NaN</td>\n",
       "      <td>NaN</td>\n",
       "      <td>NaN</td>\n",
       "      <td>NaN</td>\n",
       "      <td>...</td>\n",
       "      <td>NaN</td>\n",
       "      <td>NaN</td>\n",
       "      <td>NaN</td>\n",
       "      <td>NaN</td>\n",
       "      <td>NaN</td>\n",
       "      <td>NaN</td>\n",
       "      <td>NaN</td>\n",
       "      <td>NaN</td>\n",
       "      <td>NaN</td>\n",
       "      <td>NaN</td>\n",
       "    </tr>\n",
       "    <tr>\n",
       "      <th>792</th>\n",
       "      <td>Aluno 986</td>\n",
       "      <td>NaN</td>\n",
       "      <td>NaN</td>\n",
       "      <td>NaN</td>\n",
       "      <td>NaN</td>\n",
       "      <td>NaN</td>\n",
       "      <td>NaN</td>\n",
       "      <td>NaN</td>\n",
       "      <td>NaN</td>\n",
       "      <td>NaN</td>\n",
       "      <td>...</td>\n",
       "      <td>NaN</td>\n",
       "      <td>NaN</td>\n",
       "      <td>NaN</td>\n",
       "      <td>NaN</td>\n",
       "      <td>NaN</td>\n",
       "      <td>NaN</td>\n",
       "      <td>NaN</td>\n",
       "      <td>NaN</td>\n",
       "      <td>NaN</td>\n",
       "      <td>NaN</td>\n",
       "    </tr>\n",
       "    <tr>\n",
       "      <th>793</th>\n",
       "      <td>Aluno 990</td>\n",
       "      <td>NaN</td>\n",
       "      <td>NaN</td>\n",
       "      <td>NaN</td>\n",
       "      <td>NaN</td>\n",
       "      <td>NaN</td>\n",
       "      <td>NaN</td>\n",
       "      <td>NaN</td>\n",
       "      <td>NaN</td>\n",
       "      <td>NaN</td>\n",
       "      <td>...</td>\n",
       "      <td>NaN</td>\n",
       "      <td>NaN</td>\n",
       "      <td>NaN</td>\n",
       "      <td>NaN</td>\n",
       "      <td>NaN</td>\n",
       "      <td>NaN</td>\n",
       "      <td>NaN</td>\n",
       "      <td>NaN</td>\n",
       "      <td>NaN</td>\n",
       "      <td>NaN</td>\n",
       "    </tr>\n",
       "    <tr>\n",
       "      <th>794</th>\n",
       "      <td>Aluno 994</td>\n",
       "      <td>NaN</td>\n",
       "      <td>NaN</td>\n",
       "      <td>NaN</td>\n",
       "      <td>NaN</td>\n",
       "      <td>NaN</td>\n",
       "      <td>NaN</td>\n",
       "      <td>NaN</td>\n",
       "      <td>NaN</td>\n",
       "      <td>NaN</td>\n",
       "      <td>...</td>\n",
       "      <td>NaN</td>\n",
       "      <td>NaN</td>\n",
       "      <td>NaN</td>\n",
       "      <td>NaN</td>\n",
       "      <td>NaN</td>\n",
       "      <td>NaN</td>\n",
       "      <td>NaN</td>\n",
       "      <td>NaN</td>\n",
       "      <td>NaN</td>\n",
       "      <td>NaN</td>\n",
       "    </tr>\n",
       "    <tr>\n",
       "      <th>795</th>\n",
       "      <td>Aluno 998</td>\n",
       "      <td>NaN</td>\n",
       "      <td>NaN</td>\n",
       "      <td>NaN</td>\n",
       "      <td>NaN</td>\n",
       "      <td>NaN</td>\n",
       "      <td>NaN</td>\n",
       "      <td>NaN</td>\n",
       "      <td>NaN</td>\n",
       "      <td>NaN</td>\n",
       "      <td>...</td>\n",
       "      <td>NaN</td>\n",
       "      <td>NaN</td>\n",
       "      <td>NaN</td>\n",
       "      <td>NaN</td>\n",
       "      <td>NaN</td>\n",
       "      <td>NaN</td>\n",
       "      <td>NaN</td>\n",
       "      <td>NaN</td>\n",
       "      <td>NaN</td>\n",
       "      <td>NaN</td>\n",
       "    </tr>\n",
       "  </tbody>\n",
       "</table>\n",
       "<p>796 rows × 23 columns</p>\n",
       "</div>"
      ],
      "text/plain": [
       "     NOME_ALUNO SEXO  IDADE ESTADO_CIVIL   ETNIA  COD_CURSO  \\\n",
       "0    Aluno 1001    M   17.9  Solteiro(a)  Branca        5.0   \n",
       "1    Aluno 1002  NaN    NaN          NaN     NaN        NaN   \n",
       "2    Aluno 1003  NaN    NaN          NaN     NaN        NaN   \n",
       "3    Aluno 1005  NaN    NaN          NaN     NaN        NaN   \n",
       "4    Aluno 1008  NaN    NaN          NaN     NaN        NaN   \n",
       "..          ...  ...    ...          ...     ...        ...   \n",
       "791   Aluno 982  NaN    NaN          NaN     NaN        NaN   \n",
       "792   Aluno 986  NaN    NaN          NaN     NaN        NaN   \n",
       "793   Aluno 990  NaN    NaN          NaN     NaN        NaN   \n",
       "794   Aluno 994  NaN    NaN          NaN     NaN        NaN   \n",
       "795   Aluno 998  NaN    NaN          NaN     NaN        NaN   \n",
       "\n",
       "                   NOME_CURSO  ANO_INGRESSO FORMA_INGRESSO PERIODO_INGRESSO  \\\n",
       "0    Engenharia de Computação        2009.0     Vestibular      1º Semestre   \n",
       "1                         NaN        2016.0            NaN              NaN   \n",
       "2                         NaN           NaN            NaN              NaN   \n",
       "3                         NaN           NaN            NaN              NaN   \n",
       "4                         NaN           NaN            NaN              NaN   \n",
       "..                        ...           ...            ...              ...   \n",
       "791                       NaN           NaN            NaN              NaN   \n",
       "792                       NaN           NaN            NaN              NaN   \n",
       "793                       NaN           NaN            NaN              NaN   \n",
       "794                       NaN           NaN            NaN              NaN   \n",
       "795                       NaN           NaN            NaN              NaN   \n",
       "\n",
       "     ...  NUM_PERIODOS NUM_MAX_PERIODOS CH_TOTAL_CURSO  COTISTA  MUNICIPIO  \\\n",
       "0    ...          10.0             15.0         4215.0        N    VITORIA   \n",
       "1    ...           NaN              NaN            NaN      NaN        NaN   \n",
       "2    ...           NaN              NaN            NaN      NaN        NaN   \n",
       "3    ...           NaN              NaN            NaN      NaN        NaN   \n",
       "4    ...           NaN              NaN            NaN      NaN        NaN   \n",
       "..   ...           ...              ...            ...      ...        ...   \n",
       "791  ...           NaN              NaN            NaN      NaN        NaN   \n",
       "792  ...           NaN              NaN            NaN      NaN        NaN   \n",
       "793  ...           NaN              NaN            NaN      NaN        NaN   \n",
       "794  ...           NaN              NaN            NaN      NaN        NaN   \n",
       "795  ...           NaN              NaN            NaN      NaN        NaN   \n",
       "\n",
       "             ESTADO    PAIS  CRN  CRA QTDE_TRANCAMENTOS  \n",
       "0    Espirito Santo  Brasil    5  0.0               0.0  \n",
       "1               NaN     NaN  NaN  NaN               NaN  \n",
       "2               NaN     NaN  NaN  NaN               NaN  \n",
       "3               NaN     NaN  NaN  NaN               NaN  \n",
       "4               NaN     NaN  NaN  NaN               NaN  \n",
       "..              ...     ...  ...  ...               ...  \n",
       "791             NaN     NaN  NaN  NaN               NaN  \n",
       "792             NaN     NaN  NaN  NaN               NaN  \n",
       "793             NaN     NaN  NaN  NaN               NaN  \n",
       "794             NaN     NaN  NaN  NaN               NaN  \n",
       "795             NaN     NaN  NaN  NaN               NaN  \n",
       "\n",
       "[796 rows x 23 columns]"
      ]
     },
     "execution_count": 69,
     "metadata": {},
     "output_type": "execute_result"
    }
   ],
   "source": [
    "#Moda da idade dos homens\n",
    "masc.mode()"
   ]
  },
  {
   "attachments": {},
   "cell_type": "markdown",
   "metadata": {},
   "source": [
    "de arcursino: \n",
    "\n",
    "\n",
    "IDADE: 21\tANO: 2018 SEXO: masculino\tCURSO: ADS"
   ]
  },
  {
   "cell_type": "code",
   "execution_count": 70,
   "metadata": {},
   "outputs": [
    {
     "data": {
      "text/html": [
       "<div>\n",
       "<style scoped>\n",
       "    .dataframe tbody tr th:only-of-type {\n",
       "        vertical-align: middle;\n",
       "    }\n",
       "\n",
       "    .dataframe tbody tr th {\n",
       "        vertical-align: top;\n",
       "    }\n",
       "\n",
       "    .dataframe thead th {\n",
       "        text-align: right;\n",
       "    }\n",
       "</style>\n",
       "<table border=\"1\" class=\"dataframe\">\n",
       "  <thead>\n",
       "    <tr style=\"text-align: right;\">\n",
       "      <th></th>\n",
       "      <th>NOME_ALUNO</th>\n",
       "      <th>SEXO</th>\n",
       "      <th>IDADE</th>\n",
       "      <th>ESTADO_CIVIL</th>\n",
       "      <th>ETNIA</th>\n",
       "      <th>COD_CURSO</th>\n",
       "      <th>NOME_CURSO</th>\n",
       "      <th>ANO_INGRESSO</th>\n",
       "      <th>FORMA_INGRESSO</th>\n",
       "      <th>PERIODO_INGRESSO</th>\n",
       "      <th>...</th>\n",
       "      <th>NUM_PERIODOS</th>\n",
       "      <th>NUM_MAX_PERIODOS</th>\n",
       "      <th>CH_TOTAL_CURSO</th>\n",
       "      <th>COTISTA</th>\n",
       "      <th>MUNICIPIO</th>\n",
       "      <th>ESTADO</th>\n",
       "      <th>PAIS</th>\n",
       "      <th>CRN</th>\n",
       "      <th>CRA</th>\n",
       "      <th>QTDE_TRANCAMENTOS</th>\n",
       "    </tr>\n",
       "  </thead>\n",
       "  <tbody>\n",
       "    <tr>\n",
       "      <th>0</th>\n",
       "      <td>Aluno 1019</td>\n",
       "      <td>F</td>\n",
       "      <td>17.6</td>\n",
       "      <td>Solteiro(a)</td>\n",
       "      <td>Branca</td>\n",
       "      <td>5.0</td>\n",
       "      <td>Engenharia de Computação</td>\n",
       "      <td>2018.0</td>\n",
       "      <td>Vestibular</td>\n",
       "      <td>1º Semestre</td>\n",
       "      <td>...</td>\n",
       "      <td>10.0</td>\n",
       "      <td>15.0</td>\n",
       "      <td>4215.0</td>\n",
       "      <td>N</td>\n",
       "      <td>VITORIA</td>\n",
       "      <td>Espirito Santo</td>\n",
       "      <td>Brasil</td>\n",
       "      <td>5</td>\n",
       "      <td>0.0</td>\n",
       "      <td>0.0</td>\n",
       "    </tr>\n",
       "    <tr>\n",
       "      <th>1</th>\n",
       "      <td>Aluno 1030</td>\n",
       "      <td>NaN</td>\n",
       "      <td>NaN</td>\n",
       "      <td>NaN</td>\n",
       "      <td>NaN</td>\n",
       "      <td>NaN</td>\n",
       "      <td>NaN</td>\n",
       "      <td>NaN</td>\n",
       "      <td>NaN</td>\n",
       "      <td>NaN</td>\n",
       "      <td>...</td>\n",
       "      <td>NaN</td>\n",
       "      <td>NaN</td>\n",
       "      <td>NaN</td>\n",
       "      <td>NaN</td>\n",
       "      <td>NaN</td>\n",
       "      <td>NaN</td>\n",
       "      <td>NaN</td>\n",
       "      <td>NaN</td>\n",
       "      <td>NaN</td>\n",
       "      <td>NaN</td>\n",
       "    </tr>\n",
       "    <tr>\n",
       "      <th>2</th>\n",
       "      <td>Aluno 1043</td>\n",
       "      <td>NaN</td>\n",
       "      <td>NaN</td>\n",
       "      <td>NaN</td>\n",
       "      <td>NaN</td>\n",
       "      <td>NaN</td>\n",
       "      <td>NaN</td>\n",
       "      <td>NaN</td>\n",
       "      <td>NaN</td>\n",
       "      <td>NaN</td>\n",
       "      <td>...</td>\n",
       "      <td>NaN</td>\n",
       "      <td>NaN</td>\n",
       "      <td>NaN</td>\n",
       "      <td>NaN</td>\n",
       "      <td>NaN</td>\n",
       "      <td>NaN</td>\n",
       "      <td>NaN</td>\n",
       "      <td>NaN</td>\n",
       "      <td>NaN</td>\n",
       "      <td>NaN</td>\n",
       "    </tr>\n",
       "    <tr>\n",
       "      <th>3</th>\n",
       "      <td>Aluno 1089</td>\n",
       "      <td>NaN</td>\n",
       "      <td>NaN</td>\n",
       "      <td>NaN</td>\n",
       "      <td>NaN</td>\n",
       "      <td>NaN</td>\n",
       "      <td>NaN</td>\n",
       "      <td>NaN</td>\n",
       "      <td>NaN</td>\n",
       "      <td>NaN</td>\n",
       "      <td>...</td>\n",
       "      <td>NaN</td>\n",
       "      <td>NaN</td>\n",
       "      <td>NaN</td>\n",
       "      <td>NaN</td>\n",
       "      <td>NaN</td>\n",
       "      <td>NaN</td>\n",
       "      <td>NaN</td>\n",
       "      <td>NaN</td>\n",
       "      <td>NaN</td>\n",
       "      <td>NaN</td>\n",
       "    </tr>\n",
       "    <tr>\n",
       "      <th>4</th>\n",
       "      <td>Aluno 1092</td>\n",
       "      <td>NaN</td>\n",
       "      <td>NaN</td>\n",
       "      <td>NaN</td>\n",
       "      <td>NaN</td>\n",
       "      <td>NaN</td>\n",
       "      <td>NaN</td>\n",
       "      <td>NaN</td>\n",
       "      <td>NaN</td>\n",
       "      <td>NaN</td>\n",
       "      <td>...</td>\n",
       "      <td>NaN</td>\n",
       "      <td>NaN</td>\n",
       "      <td>NaN</td>\n",
       "      <td>NaN</td>\n",
       "      <td>NaN</td>\n",
       "      <td>NaN</td>\n",
       "      <td>NaN</td>\n",
       "      <td>NaN</td>\n",
       "      <td>NaN</td>\n",
       "      <td>NaN</td>\n",
       "    </tr>\n",
       "    <tr>\n",
       "      <th>...</th>\n",
       "      <td>...</td>\n",
       "      <td>...</td>\n",
       "      <td>...</td>\n",
       "      <td>...</td>\n",
       "      <td>...</td>\n",
       "      <td>...</td>\n",
       "      <td>...</td>\n",
       "      <td>...</td>\n",
       "      <td>...</td>\n",
       "      <td>...</td>\n",
       "      <td>...</td>\n",
       "      <td>...</td>\n",
       "      <td>...</td>\n",
       "      <td>...</td>\n",
       "      <td>...</td>\n",
       "      <td>...</td>\n",
       "      <td>...</td>\n",
       "      <td>...</td>\n",
       "      <td>...</td>\n",
       "      <td>...</td>\n",
       "      <td>...</td>\n",
       "    </tr>\n",
       "    <tr>\n",
       "      <th>84</th>\n",
       "      <td>Aluno 956</td>\n",
       "      <td>NaN</td>\n",
       "      <td>NaN</td>\n",
       "      <td>NaN</td>\n",
       "      <td>NaN</td>\n",
       "      <td>NaN</td>\n",
       "      <td>NaN</td>\n",
       "      <td>NaN</td>\n",
       "      <td>NaN</td>\n",
       "      <td>NaN</td>\n",
       "      <td>...</td>\n",
       "      <td>NaN</td>\n",
       "      <td>NaN</td>\n",
       "      <td>NaN</td>\n",
       "      <td>NaN</td>\n",
       "      <td>NaN</td>\n",
       "      <td>NaN</td>\n",
       "      <td>NaN</td>\n",
       "      <td>NaN</td>\n",
       "      <td>NaN</td>\n",
       "      <td>NaN</td>\n",
       "    </tr>\n",
       "    <tr>\n",
       "      <th>85</th>\n",
       "      <td>Aluno 960</td>\n",
       "      <td>NaN</td>\n",
       "      <td>NaN</td>\n",
       "      <td>NaN</td>\n",
       "      <td>NaN</td>\n",
       "      <td>NaN</td>\n",
       "      <td>NaN</td>\n",
       "      <td>NaN</td>\n",
       "      <td>NaN</td>\n",
       "      <td>NaN</td>\n",
       "      <td>...</td>\n",
       "      <td>NaN</td>\n",
       "      <td>NaN</td>\n",
       "      <td>NaN</td>\n",
       "      <td>NaN</td>\n",
       "      <td>NaN</td>\n",
       "      <td>NaN</td>\n",
       "      <td>NaN</td>\n",
       "      <td>NaN</td>\n",
       "      <td>NaN</td>\n",
       "      <td>NaN</td>\n",
       "    </tr>\n",
       "    <tr>\n",
       "      <th>86</th>\n",
       "      <td>Aluno 969</td>\n",
       "      <td>NaN</td>\n",
       "      <td>NaN</td>\n",
       "      <td>NaN</td>\n",
       "      <td>NaN</td>\n",
       "      <td>NaN</td>\n",
       "      <td>NaN</td>\n",
       "      <td>NaN</td>\n",
       "      <td>NaN</td>\n",
       "      <td>NaN</td>\n",
       "      <td>...</td>\n",
       "      <td>NaN</td>\n",
       "      <td>NaN</td>\n",
       "      <td>NaN</td>\n",
       "      <td>NaN</td>\n",
       "      <td>NaN</td>\n",
       "      <td>NaN</td>\n",
       "      <td>NaN</td>\n",
       "      <td>NaN</td>\n",
       "      <td>NaN</td>\n",
       "      <td>NaN</td>\n",
       "    </tr>\n",
       "    <tr>\n",
       "      <th>87</th>\n",
       "      <td>Aluno 970</td>\n",
       "      <td>NaN</td>\n",
       "      <td>NaN</td>\n",
       "      <td>NaN</td>\n",
       "      <td>NaN</td>\n",
       "      <td>NaN</td>\n",
       "      <td>NaN</td>\n",
       "      <td>NaN</td>\n",
       "      <td>NaN</td>\n",
       "      <td>NaN</td>\n",
       "      <td>...</td>\n",
       "      <td>NaN</td>\n",
       "      <td>NaN</td>\n",
       "      <td>NaN</td>\n",
       "      <td>NaN</td>\n",
       "      <td>NaN</td>\n",
       "      <td>NaN</td>\n",
       "      <td>NaN</td>\n",
       "      <td>NaN</td>\n",
       "      <td>NaN</td>\n",
       "      <td>NaN</td>\n",
       "    </tr>\n",
       "    <tr>\n",
       "      <th>88</th>\n",
       "      <td>Aluno 983</td>\n",
       "      <td>NaN</td>\n",
       "      <td>NaN</td>\n",
       "      <td>NaN</td>\n",
       "      <td>NaN</td>\n",
       "      <td>NaN</td>\n",
       "      <td>NaN</td>\n",
       "      <td>NaN</td>\n",
       "      <td>NaN</td>\n",
       "      <td>NaN</td>\n",
       "      <td>...</td>\n",
       "      <td>NaN</td>\n",
       "      <td>NaN</td>\n",
       "      <td>NaN</td>\n",
       "      <td>NaN</td>\n",
       "      <td>NaN</td>\n",
       "      <td>NaN</td>\n",
       "      <td>NaN</td>\n",
       "      <td>NaN</td>\n",
       "      <td>NaN</td>\n",
       "      <td>NaN</td>\n",
       "    </tr>\n",
       "  </tbody>\n",
       "</table>\n",
       "<p>89 rows × 23 columns</p>\n",
       "</div>"
      ],
      "text/plain": [
       "    NOME_ALUNO SEXO  IDADE ESTADO_CIVIL   ETNIA  COD_CURSO  \\\n",
       "0   Aluno 1019    F   17.6  Solteiro(a)  Branca        5.0   \n",
       "1   Aluno 1030  NaN    NaN          NaN     NaN        NaN   \n",
       "2   Aluno 1043  NaN    NaN          NaN     NaN        NaN   \n",
       "3   Aluno 1089  NaN    NaN          NaN     NaN        NaN   \n",
       "4   Aluno 1092  NaN    NaN          NaN     NaN        NaN   \n",
       "..         ...  ...    ...          ...     ...        ...   \n",
       "84   Aluno 956  NaN    NaN          NaN     NaN        NaN   \n",
       "85   Aluno 960  NaN    NaN          NaN     NaN        NaN   \n",
       "86   Aluno 969  NaN    NaN          NaN     NaN        NaN   \n",
       "87   Aluno 970  NaN    NaN          NaN     NaN        NaN   \n",
       "88   Aluno 983  NaN    NaN          NaN     NaN        NaN   \n",
       "\n",
       "                  NOME_CURSO  ANO_INGRESSO FORMA_INGRESSO PERIODO_INGRESSO  \\\n",
       "0   Engenharia de Computação        2018.0     Vestibular      1º Semestre   \n",
       "1                        NaN           NaN            NaN              NaN   \n",
       "2                        NaN           NaN            NaN              NaN   \n",
       "3                        NaN           NaN            NaN              NaN   \n",
       "4                        NaN           NaN            NaN              NaN   \n",
       "..                       ...           ...            ...              ...   \n",
       "84                       NaN           NaN            NaN              NaN   \n",
       "85                       NaN           NaN            NaN              NaN   \n",
       "86                       NaN           NaN            NaN              NaN   \n",
       "87                       NaN           NaN            NaN              NaN   \n",
       "88                       NaN           NaN            NaN              NaN   \n",
       "\n",
       "    ...  NUM_PERIODOS NUM_MAX_PERIODOS CH_TOTAL_CURSO  COTISTA  MUNICIPIO  \\\n",
       "0   ...          10.0             15.0         4215.0        N    VITORIA   \n",
       "1   ...           NaN              NaN            NaN      NaN        NaN   \n",
       "2   ...           NaN              NaN            NaN      NaN        NaN   \n",
       "3   ...           NaN              NaN            NaN      NaN        NaN   \n",
       "4   ...           NaN              NaN            NaN      NaN        NaN   \n",
       "..  ...           ...              ...            ...      ...        ...   \n",
       "84  ...           NaN              NaN            NaN      NaN        NaN   \n",
       "85  ...           NaN              NaN            NaN      NaN        NaN   \n",
       "86  ...           NaN              NaN            NaN      NaN        NaN   \n",
       "87  ...           NaN              NaN            NaN      NaN        NaN   \n",
       "88  ...           NaN              NaN            NaN      NaN        NaN   \n",
       "\n",
       "            ESTADO    PAIS  CRN  CRA QTDE_TRANCAMENTOS  \n",
       "0   Espirito Santo  Brasil    5  0.0               0.0  \n",
       "1              NaN     NaN  NaN  NaN               NaN  \n",
       "2              NaN     NaN  NaN  NaN               NaN  \n",
       "3              NaN     NaN  NaN  NaN               NaN  \n",
       "4              NaN     NaN  NaN  NaN               NaN  \n",
       "..             ...     ...  ...  ...               ...  \n",
       "84             NaN     NaN  NaN  NaN               NaN  \n",
       "85             NaN     NaN  NaN  NaN               NaN  \n",
       "86             NaN     NaN  NaN  NaN               NaN  \n",
       "87             NaN     NaN  NaN  NaN               NaN  \n",
       "88             NaN     NaN  NaN  NaN               NaN  \n",
       "\n",
       "[89 rows x 23 columns]"
      ]
     },
     "execution_count": 70,
     "metadata": {},
     "output_type": "execute_result"
    }
   ],
   "source": [
    "#Moda da idade das mulheres\n",
    "femi.mode()"
   ]
  },
  {
   "attachments": {},
   "cell_type": "markdown",
   "metadata": {},
   "source": [
    "de arcursino: \n",
    "\n",
    "\n",
    "IDADE: 20\tANO: 2018 SEXO: feminino\tCURSO: ADS"
   ]
  },
  {
   "cell_type": "code",
   "execution_count": 71,
   "metadata": {},
   "outputs": [],
   "source": [
    "#importando módulos\n",
    "import matplotlib.pyplot as plt\n",
    "import matplotlib.patches as mpatches\n",
    "%matplotlib inline"
   ]
  },
  {
   "cell_type": "code",
   "execution_count": 72,
   "metadata": {},
   "outputs": [
    {
     "data": {
      "image/png": "[encoded data removed]",
      "text/plain": [
       "<Figure size 640x480 with 1 Axes>"
      ]
     },
     "metadata": {},
     "output_type": "display_data"
    }
   ],
   "source": [
    "#Histograma da idade \n",
    "df_sliced['IDADE'].plot(kind = 'hist', bins = 100)\n",
    "plt.suptitle(\"Histograma da Idade\")\n",
    "plt.title(\"dos alunos dos Cursos de Computação da UFES\")\n",
    "plt.xlabel('Idade');\n",
    "plt.ylabel('Alunos');\n",
    "plt.legend();"
   ]
  },
  {
   "attachments": {},
   "cell_type": "markdown",
   "metadata": {},
   "source": [
    "No caso da ufes 75% dos alunos ao ingressarem possuiam menos de 20,3 anos"
   ]
  },
  {
   "attachments": {},
   "cell_type": "markdown",
   "metadata": {},
   "source": [
    "de arcursino: \n",
    "75% dos alunos estão na região de 20 a 30 anos.\n",
    "\n",
    "Assimetria positiva, ou seja, distribuição tem uma cauda e média está à direita.\n",
    "\n",
    "Curtose-leptocurtica, possui a curva da função de distribuição mais afunilada com um pico mais alto do que a distribuição normal."
   ]
  },
  {
   "attachments": {
    "image.png": {
     "image/png": "[encoded data removed]"
    }
   },
   "cell_type": "markdown",
   "metadata": {},
   "source": [
    "![image.png](attachment:image.png)"
   ]
  },
  {
   "cell_type": "markdown",
   "metadata": {},
   "source": [
    "# Visualização dos Dados"
   ]
  },
  {
   "cell_type": "markdown",
   "metadata": {},
   "source": [
    "#### Gráfico 'Inserção Mulheres x Homens no Curso de TI entre os anos de 2009 a 2018 no Brasil'\n",
    "No eixo x temos os anos e no eixo y o número de alunos por sexo."
   ]
  },
  {
   "cell_type": "code",
   "execution_count": 73,
   "metadata": {},
   "outputs": [
    {
     "data": {
      "text/html": [
       "<div>\n",
       "<style scoped>\n",
       "    .dataframe tbody tr th:only-of-type {\n",
       "        vertical-align: middle;\n",
       "    }\n",
       "\n",
       "    .dataframe tbody tr th {\n",
       "        vertical-align: top;\n",
       "    }\n",
       "\n",
       "    .dataframe thead th {\n",
       "        text-align: right;\n",
       "    }\n",
       "</style>\n",
       "<table border=\"1\" class=\"dataframe\">\n",
       "  <thead>\n",
       "    <tr style=\"text-align: right;\">\n",
       "      <th>SEXO</th>\n",
       "      <th>F</th>\n",
       "      <th>M</th>\n",
       "      <th>N</th>\n",
       "    </tr>\n",
       "    <tr>\n",
       "      <th>ANO_INGRESSO</th>\n",
       "      <th></th>\n",
       "      <th></th>\n",
       "      <th></th>\n",
       "    </tr>\n",
       "  </thead>\n",
       "  <tbody>\n",
       "    <tr>\n",
       "      <th>2009</th>\n",
       "      <td>6</td>\n",
       "      <td>100</td>\n",
       "      <td>0</td>\n",
       "    </tr>\n",
       "    <tr>\n",
       "      <th>2010</th>\n",
       "      <td>7</td>\n",
       "      <td>77</td>\n",
       "      <td>0</td>\n",
       "    </tr>\n",
       "    <tr>\n",
       "      <th>2011</th>\n",
       "      <td>8</td>\n",
       "      <td>76</td>\n",
       "      <td>0</td>\n",
       "    </tr>\n",
       "    <tr>\n",
       "      <th>2012</th>\n",
       "      <td>13</td>\n",
       "      <td>70</td>\n",
       "      <td>0</td>\n",
       "    </tr>\n",
       "    <tr>\n",
       "      <th>2013</th>\n",
       "      <td>5</td>\n",
       "      <td>75</td>\n",
       "      <td>0</td>\n",
       "    </tr>\n",
       "    <tr>\n",
       "      <th>2014</th>\n",
       "      <td>8</td>\n",
       "      <td>80</td>\n",
       "      <td>0</td>\n",
       "    </tr>\n",
       "    <tr>\n",
       "      <th>2015</th>\n",
       "      <td>9</td>\n",
       "      <td>77</td>\n",
       "      <td>1</td>\n",
       "    </tr>\n",
       "    <tr>\n",
       "      <th>2016</th>\n",
       "      <td>13</td>\n",
       "      <td>100</td>\n",
       "      <td>0</td>\n",
       "    </tr>\n",
       "    <tr>\n",
       "      <th>2017</th>\n",
       "      <td>6</td>\n",
       "      <td>67</td>\n",
       "      <td>0</td>\n",
       "    </tr>\n",
       "    <tr>\n",
       "      <th>2018</th>\n",
       "      <td>14</td>\n",
       "      <td>74</td>\n",
       "      <td>2</td>\n",
       "    </tr>\n",
       "  </tbody>\n",
       "</table>\n",
       "</div>"
      ],
      "text/plain": [
       "SEXO           F    M  N\n",
       "ANO_INGRESSO            \n",
       "2009           6  100  0\n",
       "2010           7   77  0\n",
       "2011           8   76  0\n",
       "2012          13   70  0\n",
       "2013           5   75  0\n",
       "2014           8   80  0\n",
       "2015           9   77  1\n",
       "2016          13  100  0\n",
       "2017           6   67  0\n",
       "2018          14   74  2"
      ]
     },
     "execution_count": 73,
     "metadata": {},
     "output_type": "execute_result"
    }
   ],
   "source": [
    "#Cruzamento dos dados do ano e sexo\n",
    "curso_ano = pd.crosstab(df_sliced['ANO_INGRESSO'],df_sliced['SEXO'])\n",
    "curso_ano"
   ]
  },
  {
   "cell_type": "code",
   "execution_count": 74,
   "metadata": {},
   "outputs": [
    {
     "data": {
      "image/png": "[encoded data removed]",
      "text/plain": [
       "<Figure size 640x480 with 1 Axes>"
      ]
     },
     "metadata": {},
     "output_type": "display_data"
    }
   ],
   "source": [
    "#plotar o gráfico\n",
    "curso_ano.plot(kind='bar',width=0.5, color=['red','blue'], grid=False)\n",
    "plt.suptitle(\"Inserção Mulheres x Homens no Curso computação\")\n",
    "plt.title(\"entre os anos de 2009 a 2018 na UFES\")\n",
    "plt.xlabel('Ano');\n",
    "plt.ylabel('Alunos');\n",
    "plt.legend();"
   ]
  },
  {
   "attachments": {
    "image.png": {
     "image/png": "[encoded data removed]"
    }
   },
   "cell_type": "markdown",
   "metadata": {},
   "source": [
    "de arcursino ![image.png](attachment:image.png)"
   ]
  },
  {
   "cell_type": "code",
   "execution_count": 76,
   "metadata": {},
   "outputs": [
    {
     "name": "stdout",
     "output_type": "stream",
     "text": [
      "SEXO                  F          M         N\n",
      "ANO_INGRESSO                                \n",
      "2009           5.660377  94.339623  0.000000\n",
      "2010           8.333333  91.666667  0.000000\n",
      "2011           9.523810  90.476190  0.000000\n",
      "2012          15.662651  84.337349  0.000000\n",
      "2013           6.250000  93.750000  0.000000\n",
      "2014           9.090909  90.909091  0.000000\n",
      "2015          10.344828  88.505747  1.149425\n",
      "2016          11.504425  88.495575  0.000000\n",
      "2017           8.219178  91.780822  0.000000\n",
      "2018          15.555556  82.222222  2.222222\n"
     ]
    }
   ],
   "source": [
    "#Porcentagem do cruzamento do ano e sexo\n",
    "curso_ano_per = pd.crosstab(df_sliced['ANO_INGRESSO'],df_sliced['SEXO']).apply(lambda r: r/r.sum(), axis=1) * 100\n",
    "print(curso_ano_per)"
   ]
  },
  {
   "cell_type": "code",
   "execution_count": 78,
   "metadata": {},
   "outputs": [],
   "source": [
    "#Criação de séries com os resultados do cruzamento dos dados acima\n",
    "per_2009 = pd.Series({'Ano':2009, 'Feminino':5.66, 'Masculino':94.33})\n",
    "per_2010 = pd.Series({'Ano':2010, 'Feminino':8.33, 'Masculino':91.66})\n",
    "per_2011 = pd.Series({'Ano':2011, 'Feminino':9.52, 'Masculino':90.47})\n",
    "per_2012 = pd.Series({'Ano':2012, 'Feminino':15.66, 'Masculino':84.33})\n",
    "per_2013 = pd.Series({'Ano':2013, 'Feminino':6.25, 'Masculino':93.75})\n",
    "per_2014 = pd.Series({'Ano':2014, 'Feminino':9.09, 'Masculino':90.90})\n",
    "per_2015 = pd.Series({'Ano':2015, 'Feminino':10.34, 'Masculino':88.50})\n",
    "per_2016 = pd.Series({'Ano':2016, 'Feminino':11.50, 'Masculino':88.49})\n",
    "per_2017 = pd.Series({'Ano':2017, 'Feminino':8.21, 'Masculino':91.78})\n",
    "per_2018 = pd.Series({'Ano':2019, 'Feminino':15.55, 'Masculino':82.22})"
   ]
  },
  {
   "cell_type": "code",
   "execution_count": 79,
   "metadata": {},
   "outputs": [],
   "source": [
    "#concatenação das séries em um dataframe\n",
    "df_per = pd.DataFrame([per_2009, per_2010, per_2011, per_2012, per_2013, per_2014,\n",
    "                       per_2015, per_2016, per_2017, per_2018])"
   ]
  },
  {
   "attachments": {},
   "cell_type": "markdown",
   "metadata": {},
   "source": [
    "## Correlação\n"
   ]
  },
  {
   "cell_type": "code",
   "execution_count": 80,
   "metadata": {},
   "outputs": [
    {
     "data": {
      "text/html": [
       "<div>\n",
       "<style scoped>\n",
       "    .dataframe tbody tr th:only-of-type {\n",
       "        vertical-align: middle;\n",
       "    }\n",
       "\n",
       "    .dataframe tbody tr th {\n",
       "        vertical-align: top;\n",
       "    }\n",
       "\n",
       "    .dataframe thead th {\n",
       "        text-align: right;\n",
       "    }\n",
       "</style>\n",
       "<table border=\"1\" class=\"dataframe\">\n",
       "  <thead>\n",
       "    <tr style=\"text-align: right;\">\n",
       "      <th></th>\n",
       "      <th>Ano</th>\n",
       "      <th>Feminino</th>\n",
       "      <th>Masculino</th>\n",
       "    </tr>\n",
       "  </thead>\n",
       "  <tbody>\n",
       "    <tr>\n",
       "      <th>Ano</th>\n",
       "      <td>1.000000</td>\n",
       "      <td>0.487105</td>\n",
       "      <td>-0.550279</td>\n",
       "    </tr>\n",
       "    <tr>\n",
       "      <th>Feminino</th>\n",
       "      <td>0.487105</td>\n",
       "      <td>1.000000</td>\n",
       "      <td>-0.986702</td>\n",
       "    </tr>\n",
       "    <tr>\n",
       "      <th>Masculino</th>\n",
       "      <td>-0.550279</td>\n",
       "      <td>-0.986702</td>\n",
       "      <td>1.000000</td>\n",
       "    </tr>\n",
       "  </tbody>\n",
       "</table>\n",
       "</div>"
      ],
      "text/plain": [
       "                Ano  Feminino  Masculino\n",
       "Ano        1.000000  0.487105  -0.550279\n",
       "Feminino   0.487105  1.000000  -0.986702\n",
       "Masculino -0.550279 -0.986702   1.000000"
      ]
     },
     "execution_count": 80,
     "metadata": {},
     "output_type": "execute_result"
    }
   ],
   "source": [
    "#Correlação dos dados\n",
    "df_per.corr()"
   ]
  },
  {
   "attachments": {
    "image.png": {
     "image/png": "[encoded data removed]"
    }
   },
   "cell_type": "markdown",
   "metadata": {},
   "source": [
    "**de arcursino**\n",
    "\n",
    "![image.png](attachment:image.png)\n",
    " \n",
    "Existe uma forte correlação entre os dados, positiva em relação ao gênero masculino, mostrando que as variáveis se movimentam na mesma direção e proporção. E negativa em relação ao gênero feminino, indicando que as variáveis são inversamente correlacionadas, se movimentam em direções opostas, mas na mesma proporção. \n",
    "\n"
   ]
  },
  {
   "attachments": {},
   "cell_type": "markdown",
   "metadata": {},
   "source": [
    "## Covariância\n"
   ]
  },
  {
   "cell_type": "code",
   "execution_count": 81,
   "metadata": {},
   "outputs": [
    {
     "data": {
      "text/html": [
       "<div>\n",
       "<style scoped>\n",
       "    .dataframe tbody tr th:only-of-type {\n",
       "        vertical-align: middle;\n",
       "    }\n",
       "\n",
       "    .dataframe tbody tr th {\n",
       "        vertical-align: top;\n",
       "    }\n",
       "\n",
       "    .dataframe thead th {\n",
       "        text-align: right;\n",
       "    }\n",
       "</style>\n",
       "<table border=\"1\" class=\"dataframe\">\n",
       "  <thead>\n",
       "    <tr style=\"text-align: right;\">\n",
       "      <th></th>\n",
       "      <th>Ano</th>\n",
       "      <th>Feminino</th>\n",
       "      <th>Masculino</th>\n",
       "    </tr>\n",
       "  </thead>\n",
       "  <tbody>\n",
       "    <tr>\n",
       "      <th>Ano</th>\n",
       "      <td>10.266667</td>\n",
       "      <td>5.334889</td>\n",
       "      <td>-6.846444</td>\n",
       "    </tr>\n",
       "    <tr>\n",
       "      <th>Feminino</th>\n",
       "      <td>5.334889</td>\n",
       "      <td>11.683566</td>\n",
       "      <td>-13.096070</td>\n",
       "    </tr>\n",
       "    <tr>\n",
       "      <th>Masculino</th>\n",
       "      <td>-6.846444</td>\n",
       "      <td>-13.096070</td>\n",
       "      <td>15.077690</td>\n",
       "    </tr>\n",
       "  </tbody>\n",
       "</table>\n",
       "</div>"
      ],
      "text/plain": [
       "                 Ano   Feminino  Masculino\n",
       "Ano        10.266667   5.334889  -6.846444\n",
       "Feminino    5.334889  11.683566 -13.096070\n",
       "Masculino  -6.846444 -13.096070  15.077690"
      ]
     },
     "execution_count": 81,
     "metadata": {},
     "output_type": "execute_result"
    }
   ],
   "source": [
    "#Covariância dos dados\n",
    "df_per.cov()"
   ]
  },
  {
   "attachments": {
    "image.png": {
     "image/png": "[encoded data removed]"
    }
   },
   "cell_type": "markdown",
   "metadata": {},
   "source": [
    "**de arcursino**\n",
    "\n",
    "![image.png](attachment:image.png)\n",
    "\n",
    "covariância, positiva para o gênero masculino, indicando que as duas variáveis tendem a variar na mesma direção, indicando que, com o passar dos anos, o número de alunos tende a aumentar. Enquanto para o gênero feminino, duas variáveis tendem a variar em direções opostas, indicando que, com o passar dos anos, o número de alunas tende a diminuir.   "
   ]
  },
  {
   "attachments": {},
   "cell_type": "markdown",
   "metadata": {},
   "source": [
    "## Regressão - Mulheres"
   ]
  },
  {
   "attachments": {},
   "cell_type": "markdown",
   "metadata": {},
   "source": [
    "\n",
    "**Regressão para verificar se uma variável independente (Ano),  tem relação com uma variável dependente (Número de alunas por sexo e por ano)**\n",
    "\n",
    "\n",
    "### Para avaliar a tendência da taxa de crescimento, os dados de porcentagem da taxa de crescimento foram utilizados para a geração de um gráfico de dispersão.  Ajuste linear e polinomial foi realizado para a verificação do melhor ajuste."
   ]
  },
  {
   "cell_type": "code",
   "execution_count": 82,
   "metadata": {},
   "outputs": [],
   "source": [
    "#importando módulo\n",
    "import statsmodels.api as sm"
   ]
  },
  {
   "cell_type": "code",
   "execution_count": 83,
   "metadata": {},
   "outputs": [],
   "source": [
    "#Seta os valores de X e Y\n",
    "X = df_per['Ano'].values\n",
    "Y = df_per['Feminino'].values"
   ]
  },
  {
   "cell_type": "code",
   "execution_count": 84,
   "metadata": {},
   "outputs": [],
   "source": [
    "#Treinamento do modelo\n",
    "modelo = sm.OLS(Y, X)\n",
    "resultado = modelo.fit()\n",
    "#O statsmodels não adiciona automaticamente a constante (β0) ao modelo, portanto precisa adicionar essa constante:\n",
    "X = sm.add_constant(X)"
   ]
  },
  {
   "cell_type": "code",
   "execution_count": 85,
   "metadata": {},
   "outputs": [],
   "source": [
    "#Treinamento do novo modelo agora com a adição do Intercepto (β0)\n",
    "modelo2 = sm.OLS(Y, X)\n",
    "resultado2 = modelo2.fit()"
   ]
  },
  {
   "cell_type": "code",
   "execution_count": 86,
   "metadata": {},
   "outputs": [],
   "source": [
    "#Atribuindo o coeficiente linear e coeficiente angular em variáveis para ajustar a reta.\n",
    "coef_linear, coef_angular = resultado2.params\n",
    "reta = coef_angular*X+coef_linear\n",
    "\n",
    "#Ao adicionar a constante, uma nova coluna é adicionada[1].\n",
    "X = X[:,1]\n",
    "reta = reta[:,1]"
   ]
  },
  {
   "cell_type": "code",
   "execution_count": 87,
   "metadata": {},
   "outputs": [],
   "source": [
    "#importando os módulos\n",
    "from sklearn.linear_model import LinearRegression\n",
    "from sklearn.preprocessing import PolynomialFeatures"
   ]
  },
  {
   "cell_type": "code",
   "execution_count": 88,
   "metadata": {},
   "outputs": [],
   "source": [
    "#Fazer a regressão polinomial grau 2\n",
    "caracteristicas_2= PolynomialFeatures(degree=2)\n",
    "#Colocar no padrão que a biblioteca requere (para tirar as colunas, agora será só linha)\n",
    "X = X.reshape(-1, 1)\n",
    "#linearizar o meu X e ajustar aos novos valores\n",
    "X_Polinomio_2 = caracteristicas_2.fit_transform(X)"
   ]
  },
  {
   "cell_type": "code",
   "execution_count": 89,
   "metadata": {},
   "outputs": [],
   "source": [
    "#Lineariza o polinomio\n",
    "modelo2 = LinearRegression()\n",
    "modelo2.fit(X_Polinomio_2, Y)\n",
    "Y_Polinomio_2 = modelo2.predict(X_Polinomio_2)"
   ]
  },
  {
   "cell_type": "code",
   "execution_count": 90,
   "metadata": {
    "scrolled": true
   },
   "outputs": [
    {
     "data": {
      "image/png": "[encoded data removed]",
      "text/plain": [
       "<Figure size 640x480 with 1 Axes>"
      ]
     },
     "metadata": {},
     "output_type": "display_data"
    }
   ],
   "source": [
    "plt.suptitle(\"Taxa de Crescimento das Mulheres ao Longo dos anos\")\n",
    "plt.title(\"Regressão Polinomial e Linear\")\n",
    "plt.scatter(X,Y,color='b',edgecolors=\"dimgray\", label='Mulheres (%)');\n",
    "plt.plot(X,Y_Polinomio_2,color='r',label='Ajuste Polinomial grau 2');\n",
    "plt.plot(X,reta,label='Ajuste Linear',color='k');\n",
    "plt.xlabel('Ano');\n",
    "plt.ylabel('Porcentagem');\n",
    "plt.legend();"
   ]
  },
  {
   "attachments": {
    "image.png": {
     "image/png": "[encoded data removed]"
    }
   },
   "cell_type": "markdown",
   "metadata": {},
   "source": [
    "**de arcursino**\n",
    "\n",
    "![](attachment:image.png)\n",
    "\n",
    "O ajuste polinomial de grau 2 negativo foi o que mais se adequou aos dados reais. Ou seja, a porcentagem de mulheres nos cursos tem diminuído conforme passam-se os anos."
   ]
  },
  {
   "cell_type": "code",
   "execution_count": 91,
   "metadata": {},
   "outputs": [],
   "source": [
    "#importando módulo\n",
    "from sklearn.metrics import mean_squared_error, mean_absolute_error\n",
    "import numpy as np"
   ]
  },
  {
   "attachments": {},
   "cell_type": "markdown",
   "metadata": {},
   "source": [
    "**As métricas da raiz quadrática média, também conhecida como rmse (root mean squared error) e o erro absoluto médio, conhecido como mae (mean absolut error), também foram utilizadas para validar o modelo. Ambas as medidas expressam o erro médio do modelo preditivo, em relação aos dados originais.**\n"
   ]
  },
  {
   "cell_type": "code",
   "execution_count": 92,
   "metadata": {},
   "outputs": [
    {
     "name": "stdout",
     "output_type": "stream",
     "text": [
      "MAE = 2.10\n",
      "MAE (grau=2) = 2.0440\n",
      "RMSE = 2.83\n",
      "RMSE (grau=2) = 2.8224\n"
     ]
    }
   ],
   "source": [
    "#Erro Absoluto Médio (MAE)\n",
    "MAE = mean_absolute_error(Y,reta) #Regressão Linear\n",
    "MAE2 = mean_absolute_error(Y,Y_Polinomio_2) #Regressão Polinomial\n",
    "\n",
    "#Raiz do erro quadrático médio \n",
    "RMSE = np.sqrt(mean_squared_error(Y,reta)) #Regressão Linear\n",
    "RMSE2 = np.sqrt(mean_squared_error(Y,Y_Polinomio_2)) #Regressão Polinomial\n",
    "\n",
    "print(\"MAE = {:0.2f}\".format(MAE))\n",
    "print(\"MAE (grau=2) = {:0.4f}\".format(MAE2))\n",
    "\n",
    "print(\"RMSE = {:0.2f}\".format(RMSE))\n",
    "print(\"RMSE (grau=2) = {:0.4f}\".format(RMSE2))"
   ]
  },
  {
   "attachments": {
    "image.png": {
     "image/png": "[encoded data removed]"
    }
   },
   "cell_type": "markdown",
   "metadata": {},
   "source": [
    "**de arcursino**\n",
    "\n",
    "![image.png](attachment:image.png)"
   ]
  },
  {
   "attachments": {},
   "cell_type": "markdown",
   "metadata": {},
   "source": [
    "**Os valores de r-quadrado , também conhecido como, coeficiente de determinação e indica o poder preditivo da reta de regressão.**"
   ]
  },
  {
   "cell_type": "code",
   "execution_count": 93,
   "metadata": {},
   "outputs": [
    {
     "name": "stdout",
     "output_type": "stream",
     "text": [
      "                            OLS Regression Results                            \n",
      "==============================================================================\n",
      "Dep. Variable:                      y   R-squared:                       0.237\n",
      "Model:                            OLS   Adj. R-squared:                  0.142\n",
      "Method:                 Least Squares   F-statistic:                     2.489\n",
      "Date:                Sat, 04 Feb 2023   Prob (F-statistic):              0.153\n",
      "Time:                        14:30:37   Log-Likelihood:                -24.599\n",
      "No. Observations:                  10   AIC:                             53.20\n",
      "Df Residuals:                       8   BIC:                             53.80\n",
      "Df Model:                           1                                         \n",
      "Covariance Type:            nonrobust                                         \n",
      "==============================================================================\n",
      "                 coef    std err          t      P>|t|      [0.025      0.975]\n",
      "------------------------------------------------------------------------------\n",
      "const      -1036.3201    663.264     -1.562      0.157   -2565.810     493.170\n",
      "x1             0.5196      0.329      1.578      0.153      -0.240       1.279\n",
      "==============================================================================\n",
      "Omnibus:                        3.729   Durbin-Watson:                   2.441\n",
      "Prob(Omnibus):                  0.155   Jarque-Bera (JB):                1.308\n",
      "Skew:                           0.871   Prob(JB):                        0.520\n",
      "Kurtosis:                       3.327   Cond. No.                     1.33e+06\n",
      "==============================================================================\n",
      "\n",
      "Notes:\n",
      "[1] Standard Errors assume that the covariance matrix of the errors is correctly specified.\n",
      "[2] The condition number is large, 1.33e+06. This might indicate that there are\n",
      "strong multicollinearity or other numerical problems.\n"
     ]
    },
    {
     "name": "stderr",
     "output_type": "stream",
     "text": [
      "c:\\Users\\USER\\anaconda3\\envs\\edaproplan\\lib\\site-packages\\scipy\\stats\\_stats_py.py:1772: UserWarning: kurtosistest only valid for n>=20 ... continuing anyway, n=10\n",
      "  warnings.warn(\"kurtosistest only valid for n>=20 ... continuing \"\n"
     ]
    }
   ],
   "source": [
    "#R-quadrado da Regressão Linear\n",
    "#Observação: O comando summary() imprime várias métricas e coeficientes estatísticos, porém, só foi utilizado o r2.\n",
    "print(resultado2.summary())"
   ]
  },
  {
   "attachments": {
    "image.png": {
     "image/png": "[encoded data removed]"
    }
   },
   "cell_type": "markdown",
   "metadata": {},
   "source": [
    "**de arcursino**\n",
    "\n",
    "![image.png](attachment:image.png)"
   ]
  },
  {
   "cell_type": "code",
   "execution_count": 94,
   "metadata": {},
   "outputs": [],
   "source": [
    "#importando módulo\n",
    "from sklearn.metrics import r2_score"
   ]
  },
  {
   "cell_type": "code",
   "execution_count": 95,
   "metadata": {},
   "outputs": [
    {
     "name": "stdout",
     "output_type": "stream",
     "text": [
      "R2 (Grau 2) =  0.24245092648428923\n"
     ]
    }
   ],
   "source": [
    "#R-quadrado da Regressão Polinomial\n",
    "r2_1 = r2_score(Y,Y_Polinomio_2)\n",
    "print(\"R2 (Grau 2) = \",r2_1)"
   ]
  },
  {
   "attachments": {},
   "cell_type": "markdown",
   "metadata": {},
   "source": [
    "**de arcursino**\n",
    "\n",
    "R2 (Grau 2) =  0.9891351276144656"
   ]
  },
  {
   "attachments": {},
   "cell_type": "markdown",
   "metadata": {},
   "source": [
    "## Regressão - Homens\n",
    "**Regressão para verificar se uma variável independente (Ano), tem relação com uma variável dependente (Número de alunos por sexo e por ano)**\n",
    "\n",
    "### Para avaliar a tendência da taxa de crescimento, os dados de porcentagem da taxa de crescimento foram utilizados para a geração de um gráfico de dispersão.  Ajuste linear e polinomial foi realizado para a verificação do melhor ajuste."
   ]
  },
  {
   "cell_type": "code",
   "execution_count": 96,
   "metadata": {},
   "outputs": [],
   "source": [
    "#Seta os valores de X e Y\n",
    "X = df_per['Ano'].values\n",
    "Y = df_per['Masculino'].values"
   ]
  },
  {
   "cell_type": "code",
   "execution_count": 97,
   "metadata": {},
   "outputs": [],
   "source": [
    "#Treinamento do modelo\n",
    "modelo = sm.OLS(Y, X)\n",
    "resultado = modelo.fit()\n",
    "X = sm.add_constant(X)"
   ]
  },
  {
   "cell_type": "code",
   "execution_count": 98,
   "metadata": {},
   "outputs": [
    {
     "name": "stdout",
     "output_type": "stream",
     "text": [
      "                            OLS Regression Results                            \n",
      "==============================================================================\n",
      "Dep. Variable:                      y   R-squared:                       0.303\n",
      "Model:                            OLS   Adj. R-squared:                  0.216\n",
      "Method:                 Least Squares   F-statistic:                     3.475\n",
      "Date:                Sat, 04 Feb 2023   Prob (F-statistic):             0.0993\n",
      "Time:                        14:32:28   Log-Likelihood:                -25.425\n",
      "No. Observations:                  10   AIC:                             54.85\n",
      "Df Residuals:                       8   BIC:                             55.46\n",
      "Df Model:                           1                                         \n",
      "Covariance Type:            nonrobust                                         \n",
      "==============================================================================\n",
      "                 coef    std err          t      P>|t|      [0.025      0.975]\n",
      "------------------------------------------------------------------------------\n",
      "const       1432.4353    720.374      1.988      0.082    -228.750    3093.620\n",
      "x1            -0.6669      0.358     -1.864      0.099      -1.492       0.158\n",
      "==============================================================================\n",
      "Omnibus:                        1.413   Durbin-Watson:                   2.405\n",
      "Prob(Omnibus):                  0.493   Jarque-Bera (JB):                0.612\n",
      "Skew:                          -0.591   Prob(JB):                        0.736\n",
      "Kurtosis:                       2.735   Cond. No.                     1.33e+06\n",
      "==============================================================================\n",
      "\n",
      "Notes:\n",
      "[1] Standard Errors assume that the covariance matrix of the errors is correctly specified.\n",
      "[2] The condition number is large, 1.33e+06. This might indicate that there are\n",
      "strong multicollinearity or other numerical problems.\n"
     ]
    },
    {
     "name": "stderr",
     "output_type": "stream",
     "text": [
      "c:\\Users\\USER\\anaconda3\\envs\\edaproplan\\lib\\site-packages\\scipy\\stats\\_stats_py.py:1772: UserWarning: kurtosistest only valid for n>=20 ... continuing anyway, n=10\n",
      "  warnings.warn(\"kurtosistest only valid for n>=20 ... continuing \"\n"
     ]
    }
   ],
   "source": [
    "modelo2 = sm.OLS(Y, X)\n",
    "resultado2 = modelo2.fit()\n",
    "print(resultado2.summary())"
   ]
  },
  {
   "attachments": {
    "image.png": {
     "image/png": "[encoded data removed]"
    }
   },
   "cell_type": "markdown",
   "metadata": {},
   "source": [
    "**de arcusino**\n",
    "\n",
    "![image.png](attachment:image.png)"
   ]
  },
  {
   "cell_type": "code",
   "execution_count": 99,
   "metadata": {},
   "outputs": [],
   "source": [
    "coef_linear, coef_angular = resultado2.params\n",
    "reta = coef_angular*X+coef_linear\n",
    "X = X[:,1]\n",
    "reta = reta[:,1]"
   ]
  },
  {
   "cell_type": "code",
   "execution_count": 100,
   "metadata": {},
   "outputs": [],
   "source": [
    "caracteristicas_2= PolynomialFeatures(degree=2)\n",
    "X = X.reshape(-1, 1)\n",
    "X_Polinomio_2 = caracteristicas_2.fit_transform(X)"
   ]
  },
  {
   "cell_type": "code",
   "execution_count": 101,
   "metadata": {},
   "outputs": [],
   "source": [
    "modelo2 = LinearRegression()\n",
    "modelo2.fit(X_Polinomio_2, Y)\n",
    "Y_Polinomio_2 = modelo2.predict(X_Polinomio_2)"
   ]
  },
  {
   "cell_type": "code",
   "execution_count": 102,
   "metadata": {},
   "outputs": [
    {
     "data": {
      "image/png": "[encoded data removed]",
      "text/plain": [
       "<Figure size 640x480 with 1 Axes>"
      ]
     },
     "metadata": {},
     "output_type": "display_data"
    }
   ],
   "source": [
    "plt.suptitle(\"Taxa de Crescimento dos Homens ao Longo dos anos\")\n",
    "plt.title(\"Regressão Polinomial e Linear\")\n",
    "plt.scatter(X,Y,color='b',edgecolors=\"dimgray\", label='Homens (%)');\n",
    "plt.plot(X,Y_Polinomio_2,color='r',label='Ajuste Polinomial grau 2');\n",
    "plt.plot(X,reta,label='Ajuste Linear',color='k');\n",
    "plt.xlabel('Ano');\n",
    "plt.ylabel('Porcentagem');\n",
    "plt.legend();"
   ]
  },
  {
   "attachments": {
    "image.png": {
     "image/png": "[encoded data removed]"
    }
   },
   "cell_type": "markdown",
   "metadata": {},
   "source": [
    "**de arcursino:**\n",
    "\n",
    "![](attachment:image.png)\n",
    "\n",
    "Pode-se observar que a taxa de crescimento dos homens na área segue a tendência de uma regressão polinomial de ordem 2, indicando aumento na porcentagem de homens inseridos nos cursos de TI ao longo dos anos"
   ]
  },
  {
   "cell_type": "code",
   "execution_count": 103,
   "metadata": {},
   "outputs": [
    {
     "name": "stdout",
     "output_type": "stream",
     "text": [
      "MAE = 2.34\n",
      "MAE (grau=2) = 2.2453\n",
      "RMSE = 3.08\n",
      "RMSE (grau=2) = 3.0254\n"
     ]
    }
   ],
   "source": [
    "MAE = mean_absolute_error(Y,reta)\n",
    "MAE2 = mean_absolute_error(Y,Y_Polinomio_2)\n",
    "RMSE = np.sqrt(mean_squared_error(Y,reta))\n",
    "RMSE2 = np.sqrt(mean_squared_error(Y,Y_Polinomio_2))\n",
    "\n",
    "print(\"MAE = {:0.2f}\".format(MAE))\n",
    "print(\"MAE (grau=2) = {:0.4f}\".format(MAE2))\n",
    "\n",
    "print(\"RMSE = {:0.2f}\".format(RMSE))\n",
    "print(\"RMSE (grau=2) = {:0.4f}\".format(RMSE2))"
   ]
  },
  {
   "attachments": {
    "image.png": {
     "image/png": "[encoded data removed]"
    }
   },
   "cell_type": "markdown",
   "metadata": {},
   "source": [
    "**de arcursino**\n",
    "\n",
    "![image.png](attachment:image.png)"
   ]
  },
  {
   "cell_type": "code",
   "execution_count": 104,
   "metadata": {},
   "outputs": [
    {
     "name": "stdout",
     "output_type": "stream",
     "text": [
      "                            OLS Regression Results                            \n",
      "==============================================================================\n",
      "Dep. Variable:                      y   R-squared:                       0.303\n",
      "Model:                            OLS   Adj. R-squared:                  0.216\n",
      "Method:                 Least Squares   F-statistic:                     3.475\n",
      "Date:                Sat, 04 Feb 2023   Prob (F-statistic):             0.0993\n",
      "Time:                        14:34:23   Log-Likelihood:                -25.425\n",
      "No. Observations:                  10   AIC:                             54.85\n",
      "Df Residuals:                       8   BIC:                             55.46\n",
      "Df Model:                           1                                         \n",
      "Covariance Type:            nonrobust                                         \n",
      "==============================================================================\n",
      "                 coef    std err          t      P>|t|      [0.025      0.975]\n",
      "------------------------------------------------------------------------------\n",
      "const       1432.4353    720.374      1.988      0.082    -228.750    3093.620\n",
      "x1            -0.6669      0.358     -1.864      0.099      -1.492       0.158\n",
      "==============================================================================\n",
      "Omnibus:                        1.413   Durbin-Watson:                   2.405\n",
      "Prob(Omnibus):                  0.493   Jarque-Bera (JB):                0.612\n",
      "Skew:                          -0.591   Prob(JB):                        0.736\n",
      "Kurtosis:                       2.735   Cond. No.                     1.33e+06\n",
      "==============================================================================\n",
      "\n",
      "Notes:\n",
      "[1] Standard Errors assume that the covariance matrix of the errors is correctly specified.\n",
      "[2] The condition number is large, 1.33e+06. This might indicate that there are\n",
      "strong multicollinearity or other numerical problems.\n"
     ]
    },
    {
     "name": "stderr",
     "output_type": "stream",
     "text": [
      "c:\\Users\\USER\\anaconda3\\envs\\edaproplan\\lib\\site-packages\\scipy\\stats\\_stats_py.py:1772: UserWarning: kurtosistest only valid for n>=20 ... continuing anyway, n=10\n",
      "  warnings.warn(\"kurtosistest only valid for n>=20 ... continuing \"\n"
     ]
    }
   ],
   "source": [
    "#R-quadrado\n",
    "print(resultado2.summary())"
   ]
  },
  {
   "attachments": {
    "image.png": {
     "image/png": "[encoded data removed]"
    }
   },
   "cell_type": "markdown",
   "metadata": {},
   "source": [
    "**de arcursino**\n",
    "\n",
    "![image.png](attachment:image.png)"
   ]
  },
  {
   "cell_type": "code",
   "execution_count": 105,
   "metadata": {},
   "outputs": [
    {
     "name": "stdout",
     "output_type": "stream",
     "text": [
      "R2 (Grau 2) =  0.3254885874393485\n"
     ]
    }
   ],
   "source": [
    "r2_1 = r2_score(Y,Y_Polinomio_2)\n",
    "print(\"R2 (Grau 2) = \",r2_1)"
   ]
  },
  {
   "attachments": {},
   "cell_type": "markdown",
   "metadata": {},
   "source": [
    "**de arcursino**\n",
    "\n",
    "R2 (Grau 2) =  0.9891351276134671"
   ]
  },
  {
   "cell_type": "code",
   "execution_count": 106,
   "metadata": {},
   "outputs": [],
   "source": [
    "#Salva o novo dataframe em .csv\n",
    "df_per.to_csv('df_per.csv', index=False)"
   ]
  },
  {
   "attachments": {},
   "cell_type": "markdown",
   "metadata": {},
   "source": [
    "## Ajustes Lineares não são bons para descrever o histórico da UFES no mesmo período, nem para os homens e nem para as mulheres"
   ]
  },
  {
   "attachments": {},
   "cell_type": "markdown",
   "metadata": {},
   "source": [
    "**De arcursino:**"
   ]
  },
  {
   "cell_type": "markdown",
   "metadata": {},
   "source": [
    "## Validação do Modelo\n",
    "\n",
    "\n",
    "- O R2 em ambas regressões linear e polinomial foi de 0,959 e 0,989, respectivamente. Nesse caso afirma-se que 96% e 99%, respectivamente das variações do ano podem ser explicadas com base na variação do número de alunos inseridos nos cursos.\n",
    "\n",
    "- Indicando que ambas as regressões apresentam ótimo modelo para predizer a taxa de crescimento dos homens e das mulheres nos anos de 2008 a 2019.\n",
    "\n",
    "\n",
    "- Para a regressão linear, os valores encontrados de rmse e de mae foram 0,34 e 0,26, respectivamente, para ambos os gêneros.\n",
    "\n",
    "- Para a regressão polinomial os valores foram 0,18 e 0,15, respectivamente, para ambos os gêneros. Novamente a regressão polinomial apresentou valores menores de erro em relação a regressão linear."
   ]
  },
  {
   "cell_type": "markdown",
   "metadata": {},
   "source": [
    "## Conclusão\n",
    "- A análise empreendida aqui busca analisar a participação das mulheres nos cursos da tecnologia da informação a partir da categoria gênero, realizando para isso uma análise descritiva dos dados. \n",
    "\n",
    "- Tal análise evidencia o comportamento e o fluxo da inserção dos alunos ao longo dos anos. Observa-se que o número de mulheres nos cursos da área de TI, está cada vez mais diminuindo. Análises similares foram encontrados em estudos do curso de Ciências da Computação de Moreira, Silva e Carvalho[6] na UFPB e de Santos[1], no IME-USP.\n",
    "\n",
    "- As administrações educacionais devem usar esses dados com a intenção de criar métodos para evitar a redução da procura dos cursos por mulheres e torná-los mais atraentes e inclusivos para o público feminino. \n",
    "\n",
    "- Na tomada dessas decisões, é necessário criar indicadores e destacar os pontos relevantes para a coordenação do curso.\n",
    "\n",
    "- Para trabalhos futuros, recomenda-se que se utilizem fatores relacionados ao tema, para estabelecer um modelo preditivo com maior consistência e maior precisão, verificando assim a relação da diminuição da inserção das mulheres nos cursos de TI, a outros fatores relacionados à área."
   ]
  },
  {
   "cell_type": "markdown",
   "metadata": {},
   "source": [
    "## Referências Bibliográficas\n",
    "[1] SANTOS, C. M. Por que as mulheres ‘desapareceram’ dos cursos de computação?. Jornal da USP, 2018. Disponível em: https://jornal.usp.br/universidade/por-que-as-mulheres-desapareceram-dos-cursos-de-computacao. Acesso em 10/08/2020.\n",
    "\n",
    "[2] ABBATE, J. The Pleasure Paradox: Bridging the Gap between Popular Images of Computing and Women´s Historical Experiences. In: SOUZA, T. P de. Seminário Internacional Fazendo Gênero. Congresso, Florianópolis, 2017. Disponível em: https://bit.ly/37oKgyJ Acesso em 01/06/2020.\n",
    "\n",
    "[3] HAYES, C. C. Computer Science: The incredible shrinking Woman. In: SOUZA, T. P de. Seminário Internacional Fazendo Gênero. Congresso, Florianópolis, 2017. Disponível em: https://bit.ly/37oKgyJ Acesso em 01/06/2020.\n",
    "\n",
    "[4] YOCTOO, 2019, in: SILVA, José; OLIVEIRA, Letícia; SILVA, André. Meninas na Computação: uma análise inicial da participação das mulheres nos cursos de Sistemas de Informação do estado de Alagoas. In: Anais do XXVII Workshop sobre Educação em Computação. SBC, 2019. p. 444-452.\n",
    "\n",
    "[5] FAYYAD, U.; PIATETSKY-SHAPIRO, G.; SMYTH, P. From data mining to knowledge discovery in databases. AI magazine, v. 17, n. 3, p. 37-37, 1996.\n",
    "\n",
    "[6] MOREIRA, J. A.; SILVA, R. M.; CARVALHO, M. E. P. Cenários Prospectivos: Uma Visão do Futuro da Presença Feminina em Cursos de Ciência da Computação de uma Instituição de Ensino Superior. In: Anais do XXVI Workshop sobre Educação em Computação. SBC, 2018."
   ]
  }
 ],
 "metadata": {
  "kernelspec": {
   "display_name": "edaproplan",
   "language": "python",
   "name": "python3"
  },
  "language_info": {
   "codemirror_mode": {
    "name": "ipython",
    "version": 3
   },
   "file_extension": ".py",
   "mimetype": "text/x-python",
   "name": "python",
   "nbconvert_exporter": "python",
   "pygments_lexer": "ipython3",
   "version": "3.9.15"
  },
  "vscode": {
   "interpreter": {
    "hash": "d399f9a59af5afdffaa4a71e92928cbf56dbd2d065845f402b95d36eac541ae3"
   }
  }
 },
 "nbformat": 4,
 "nbformat_minor": 2
}
